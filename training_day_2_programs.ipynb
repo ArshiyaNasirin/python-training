{
  "nbformat": 4,
  "nbformat_minor": 0,
  "metadata": {
    "colab": {
      "provenance": [],
      "toc_visible": true,
      "authorship_tag": "ABX9TyNRHmsin9qH3kcz4E4zkUzS",
      "include_colab_link": true
    },
    "kernelspec": {
      "name": "python3",
      "display_name": "Python 3"
    },
    "language_info": {
      "name": "python"
    }
  },
  "cells": [
    {
      "cell_type": "markdown",
      "metadata": {
        "id": "view-in-github",
        "colab_type": "text"
      },
      "source": [
        "<a href=\"https://colab.research.google.com/github/ArshiyaNasirin/python-training/blob/main/training_day_2_programs.ipynb\" target=\"_parent\"><img src=\"https://colab.research.google.com/assets/colab-badge.svg\" alt=\"Open In Colab\"/></a>"
      ]
    },
    {
      "cell_type": "code",
      "execution_count": null,
      "metadata": {
        "colab": {
          "base_uri": "https://localhost:8080/"
        },
        "id": "eSgih0f_erJ7",
        "outputId": "380d5b93-96fd-4592-8a70-e9ae645a14a9"
      },
      "outputs": [
        {
          "output_type": "stream",
          "name": "stdout",
          "text": [
            "The even numbers are: [0, 2, 4, 6, 8, 10]\n",
            "The squares of the even numbers are: [0, 4, 16, 36, 64, 100]\n",
            "The odd numbers are: [1, 3, 5, 7, 9]\n",
            "The squares of the odd numbers are: [1, 9, 25, 49, 81]\n"
          ]
        }
      ],
      "source": [
        "list1=[1,2,3,4,5,6,7,8,9,10]\n",
        "odd=[]\n",
        "odds=[]\n",
        "eve=[]\n",
        "even=[]\n",
        "for i in range(11):\n",
        "    if (i%2==0):\n",
        "        eve.append(i)\n",
        "        even.append(i*i)\n",
        "    else:\n",
        "        odd.append(i)\n",
        "        odds.append(i*i)\n",
        "print(\"The even numbers are:\",eve)\n",
        "print(\"The squares of the even numbers are:\",even)\n",
        "print(\"The odd numbers are:\",odd)\n",
        "print(\"The squares of the odd numbers are:\",odds)\n"
      ]
    },
    {
      "cell_type": "code",
      "source": [
        "list1=[2,4,8,7,34,24,9]\n",
        "a=len(list1)\n",
        "mini=list1[0]\n",
        "maxi=list1[0]\n",
        "for i in list1:\n",
        "  if (maxi< i):\n",
        "    maxi=i\n",
        "  if(mini>i):\n",
        "    mini=i\n",
        "print(\"The maximum value is:\",maxi)\n",
        "print(\"The minimum value is: \",mini)"
      ],
      "metadata": {
        "colab": {
          "base_uri": "https://localhost:8080/"
        },
        "id": "JkGsvTObuzb2",
        "outputId": "afb12a18-274c-49e3-fe9f-8f005412f340"
      },
      "execution_count": null,
      "outputs": [
        {
          "output_type": "stream",
          "name": "stdout",
          "text": [
            "The maximum value is: 34\n",
            "The minimum value is:  2\n"
          ]
        }
      ]
    },
    {
      "cell_type": "code",
      "source": [
        "list1=[2,4,8,7,34,24,9]\n",
        "a=len(list1)\n",
        "mini=list1[0]\n",
        "maxi=list1[0]\n",
        "for i in list1:\n",
        "  if (maxi< i):\n",
        "    maxi=i\n",
        "  if(mini>i):\n",
        "    mini=i\n",
        "print(\"BEFORE REMOVAL:\",list1)\n",
        "print(\"The first maximum value is:\",maxi)\n",
        "print(\"The first minimum value is: \",mini)\n",
        "list1.remove(maxi)\n",
        "list1.remove(mini)\n",
        "print(\"AFTER REMOVAL\",list1)\n",
        "ma=list1[0]\n",
        "mi=list1[0]\n",
        "for j in list1:\n",
        "  if(ma < j):\n",
        "    ma=j\n",
        "  if(mi > j):\n",
        "    mi=j\n",
        "print(\"The second maximum value is:\",ma)\n",
        "print(\"The second minimum value is: \",mi)"
      ],
      "metadata": {
        "colab": {
          "base_uri": "https://localhost:8080/"
        },
        "id": "nG7cs3dPvNFu",
        "outputId": "caf07a4d-510a-46d7-f8ad-edcd794d3a0a"
      },
      "execution_count": null,
      "outputs": [
        {
          "output_type": "stream",
          "name": "stdout",
          "text": [
            "BEFORE REMOVAL: [2, 4, 8, 7, 34, 24, 9]\n",
            "The first maximum value is: 34\n",
            "The first minimum value is:  2\n",
            "AFTER REMOVAL [4, 8, 7, 24, 9]\n",
            "The second maximum value is: 24\n",
            "The second minimum value is:  4\n"
          ]
        }
      ]
    },
    {
      "cell_type": "code",
      "source": [
        "def bubble_sort_asc(arr):\n",
        "    n = len(arr)\n",
        "    for i in range(n):\n",
        "        for j in range(0, n-i-1):\n",
        "            if arr[j] > arr[j+1]:\n",
        "                arr[j], arr[j+1] = arr[j+1], arr[j]\n",
        "\n",
        "def bubble_sort_desc(arr):\n",
        "    n = len(arr)\n",
        "    for i in range(n):\n",
        "        for j in range(0, n-i-1):\n",
        "            if arr[j] < arr[j+1]:\n",
        "                arr[j], arr[j+1] = arr[j+1], arr[j]\n",
        "\n",
        "# Example usage\n",
        "input_list = [5, 3, 7, 9, 8, 4, 2]\n",
        "\n",
        "# Sorting in ascending order\n",
        "bubble_sort_asc(input_list.copy())\n",
        "print(\"Ascending order:\", input_list)\n",
        "\n",
        "# Sorting in descending order\n",
        "bubble_sort_desc(input_list.copy())\n",
        "print(\"Descending order:\", input_list)\n"
      ],
      "metadata": {
        "colab": {
          "base_uri": "https://localhost:8080/"
        },
        "id": "xFG7aIrfvZF2",
        "outputId": "0ee9b1e0-7661-45f7-e3f4-36530deb4c08"
      },
      "execution_count": null,
      "outputs": [
        {
          "output_type": "stream",
          "name": "stdout",
          "text": [
            "Ascending order: [5, 3, 7, 9, 8, 4, 2]\n",
            "Descending order: [5, 3, 7, 9, 8, 4, 2]\n"
          ]
        }
      ]
    },
    {
      "cell_type": "code",
      "source": [
        "a = [45, 67, 83, 24, 55, 87, 77, 34]\n",
        "number_to_find = 55\n",
        "position = a.index(number_to_find)\n",
        "print(\"The position of\", number_to_find, \"is\", position)\n"
      ],
      "metadata": {
        "colab": {
          "base_uri": "https://localhost:8080/"
        },
        "id": "Y6B7TQe6vzuy",
        "outputId": "abc88556-9584-4d98-ef23-68bac89b5abc"
      },
      "execution_count": null,
      "outputs": [
        {
          "output_type": "stream",
          "name": "stdout",
          "text": [
            "The position of 55 is 4\n"
          ]
        }
      ]
    },
    {
      "cell_type": "code",
      "source": [
        "from collections import Counter\n",
        "\n",
        "a = [4, 5, 6, 4, 6, 7, 4, 2, 4, 8, 4]\n",
        "counter = Counter(a)\n",
        "most_common_element = counter.most_common(1)[0][0]\n",
        "\n",
        "print(\"The most frequent element in the list is:\", most_common_element)\n",
        "\n"
      ],
      "metadata": {
        "colab": {
          "base_uri": "https://localhost:8080/"
        },
        "id": "kzWm4FkIv-YD",
        "outputId": "e09971e7-fed6-4332-d65f-51ba1a6c5467"
      },
      "execution_count": null,
      "outputs": [
        {
          "output_type": "stream",
          "name": "stdout",
          "text": [
            "The most frequent element in the list is: 4\n"
          ]
        }
      ]
    },
    {
      "cell_type": "code",
      "source": [
        "keys = ['Ten', 'Twenty', 'Thirty']\n",
        "values = [10, 20, 30]\n",
        "\n",
        "result_dict = {}\n",
        "for key, value in zip(keys, values):\n",
        "    result_dict.update({key: value})\n",
        "\n",
        "print(\"Dictionary created:\", result_dict)\n"
      ],
      "metadata": {
        "colab": {
          "base_uri": "https://localhost:8080/"
        },
        "id": "rdo0P1WRwSZi",
        "outputId": "132fca75-27e0-476a-f162-1638c0943571"
      },
      "execution_count": null,
      "outputs": [
        {
          "output_type": "stream",
          "name": "stdout",
          "text": [
            "Dictionary created: {'Ten': 10, 'Twenty': 20, 'Thirty': 30}\n"
          ]
        }
      ]
    },
    {
      "cell_type": "code",
      "source": [
        "import random\n",
        "\n",
        "voter_list = ['Voter1', 'Voter2', 'Voter3', 'Voter4', 'Voter5',\n",
        "              'Voter6', 'Voter7', 'Voter8', 'Voter9', 'Voter10']\n",
        "\n",
        "candidates = {'A': 0, 'B': 0, 'C': 0}\n",
        "\n",
        "# Simulating the voting process\n",
        "for voter in voter_list:\n",
        "    vote_cast = random.choice(['A', 'B', 'C'])\n",
        "    candidates[vote_cast] += 1\n",
        "\n",
        "# Determining the winner and the runner-up\n",
        "sorted_candidates = sorted(candidates.items(), key=lambda x: x[1], reverse=True)\n",
        "winner, winner_votes = sorted_candidates[0]\n",
        "runner_up, runner_up_votes = sorted_candidates[1]\n",
        "\n",
        "print(\"Winner:\", winner, \"with\", winner_votes, \"votes\")\n",
        "print(\"Runner-up:\", runner_up, \"with\", runner_up_votes, \"votes\")\n",
        "\n",
        "# Finding members who voted for the winner and the runner-up\n",
        "voted_for_winner = [voter for voter in voter_list if candidates[winner] == winner_votes]\n",
        "voted_for_runner_up = [voter for voter in voter_list if candidates[runner_up] == runner_up_votes]\n",
        "\n",
        "print(\"Members who voted for the winner:\", voted_for_winner)\n",
        "print(\"Members who voted for the runner-up:\", voted_for_runner_up)\n"
      ],
      "metadata": {
        "colab": {
          "base_uri": "https://localhost:8080/"
        },
        "id": "38fdniRxwhNx",
        "outputId": "b15d6f7d-1020-4cb9-ea1a-3eff0da9a0bb"
      },
      "execution_count": null,
      "outputs": [
        {
          "output_type": "stream",
          "name": "stdout",
          "text": [
            "Winner: A with 6 votes\n",
            "Runner-up: C with 4 votes\n",
            "Members who voted for the winner: ['Voter1', 'Voter2', 'Voter3', 'Voter4', 'Voter5', 'Voter6', 'Voter7', 'Voter8', 'Voter9', 'Voter10']\n",
            "Members who voted for the runner-up: ['Voter1', 'Voter2', 'Voter3', 'Voter4', 'Voter5', 'Voter6', 'Voter7', 'Voter8', 'Voter9', 'Voter10']\n"
          ]
        }
      ]
    },
    {
      "cell_type": "code",
      "source": [
        "# Function to convert Rupee to Dollar\n",
        "def rupee_to_dollar(rupee):\n",
        "    return rupee / 74.56  # Assuming 1 USD = 74.56 INR\n",
        "\n",
        "# Function to convert Celsius to Fahrenheit\n",
        "def celsius_to_fahrenheit(celsius):\n",
        "    return (celsius * 9/5) + 32\n",
        "\n",
        "# Function to calculate BMI\n",
        "def calculate_bmi(weight_kg, height_m):\n",
        "    return weight_kg / (height_m ** 2)\n",
        "\n",
        "# Function to calculate Simple Interest\n",
        "def calculate_simple_interest(principal, rate, time):\n",
        "    return (principal * rate * time) / 100\n",
        "\n",
        "# Main function\n",
        "def main():\n",
        "    print(\"1. India (Rupee) to US (Dollar) conversion\")\n",
        "    rupee_amount = float(input(\"Enter amount in Rupees: \"))\n",
        "    dollar_amount = rupee_to_dollar(rupee_amount)\n",
        "    print(\"Equivalent amount in US Dollars:\", dollar_amount)\n",
        "\n",
        "    print(\"\\n2. Celsius to Fahrenheit conversion\")\n",
        "    celsius_temp = float(input(\"Enter temperature in Celsius: \"))\n",
        "    fahrenheit_temp = celsius_to_fahrenheit(celsius_temp)\n",
        "    print(\"Equivalent temperature in Fahrenheit:\", fahrenheit_temp)\n",
        "\n",
        "    print(\"\\n3. BMI Calculation\")\n",
        "    weight = float(input(\"Enter weight in kg: \"))\n",
        "    height = float(input(\"Enter height in meters: \"))\n",
        "    bmi = calculate_bmi(weight, height)\n",
        "    print(\"BMI:\", bmi)\n",
        "\n",
        "    print(\"\\n4. Simple Interest Calculation\")\n",
        "    principal = float(input(\"Enter principal amount: \"))\n",
        "    rate = float(input(\"Enter rate of interest: \"))\n",
        "    time = float(input(\"Enter time period (in years): \"))\n",
        "    simple_interest = calculate_simple_interest(principal, rate, time)\n",
        "    print(\"Simple Interest:\", simple_interest)\n",
        "\n",
        "if __name__ == \"__main__\":\n",
        "    main()\n"
      ],
      "metadata": {
        "colab": {
          "base_uri": "https://localhost:8080/"
        },
        "id": "ZwMcvYVjw0K5",
        "outputId": "511297f6-579d-4c79-d49e-a02cbde38073"
      },
      "execution_count": null,
      "outputs": [
        {
          "output_type": "stream",
          "name": "stdout",
          "text": [
            "1. India (Rupee) to US (Dollar) conversion\n",
            "Enter amount in Rupees: 50\n",
            "Equivalent amount in US Dollars: 0.6706008583690987\n",
            "\n",
            "2. Celsius to Fahrenheit conversion\n",
            "Enter temperature in Celsius: 60\n",
            "Equivalent temperature in Fahrenheit: 140.0\n",
            "\n",
            "3. BMI Calculation\n",
            "Enter weight in kg: 40\n",
            "Enter height in meters: 45\n",
            "BMI: 0.019753086419753086\n",
            "\n",
            "4. Simple Interest Calculation\n",
            "Enter principal amount: 45\n",
            "Enter rate of interest: 45\n",
            "Enter time period (in years): 10\n",
            "Simple Interest: 202.5\n"
          ]
        }
      ]
    },
    {
      "cell_type": "code",
      "source": [
        "def get_zeros_and_ones(input_list):\n",
        "    zeros = []\n",
        "    ones = []\n",
        "    for num in input_list:\n",
        "        if num == 0:\n",
        "            zeros.append(num)\n",
        "        elif num == 1:\n",
        "            ones.append(num)\n",
        "        else:\n",
        "            print(\"Invalid input! Input list should only contain 0s and 1s.\")\n",
        "            return None\n",
        "    return zeros, ones\n",
        "\n",
        "input_list = [0, 1, 0, 1, 1, 0, 1, 0, 1, 0]\n",
        "zeros, ones = get_zeros_and_ones(input_list)\n",
        "print(\"Zeros:\", zeros)\n",
        "print(\"Ones:\", ones)\n"
      ],
      "metadata": {
        "colab": {
          "base_uri": "https://localhost:8080/"
        },
        "id": "yxFLN9l5xP86",
        "outputId": "11459686-3f5c-40b2-e210-68c527af2ee1"
      },
      "execution_count": null,
      "outputs": [
        {
          "output_type": "stream",
          "name": "stdout",
          "text": [
            "Zeros: [0, 0, 0, 0, 0]\n",
            "Ones: [1, 1, 1, 1, 1]\n"
          ]
        }
      ]
    }
  ]
}